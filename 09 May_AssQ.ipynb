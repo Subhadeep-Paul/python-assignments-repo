{
 "cells": [
  {
   "cell_type": "code",
   "execution_count": 1,
   "id": "2b07f564-4512-428d-808a-a0fb14e53a14",
   "metadata": {},
   "outputs": [],
   "source": [
    "#Q1. Create one variable containing following type of data:\n",
    "\n",
    "#(i)string\n",
    "\n",
    "#(ii)list\n",
    "\n",
    "#(iii)float\n",
    "\n",
    "#(iv)tuple"
   ]
  },
  {
   "cell_type": "code",
   "execution_count": 2,
   "id": "8705bc35-57cd-4d6e-9587-80de13e7ad63",
   "metadata": {},
   "outputs": [],
   "source": [
    "a = \"Subhadeep\""
   ]
  },
  {
   "cell_type": "code",
   "execution_count": 3,
   "id": "acfc971b-f81c-4552-9c0c-17689f918650",
   "metadata": {},
   "outputs": [],
   "source": [
    "b = [ 100, \"Python\", 200.01, False, 2+9j ]"
   ]
  },
  {
   "cell_type": "code",
   "execution_count": 4,
   "id": "80cd9e0d-e6e2-4a54-95d3-ff46fdfb309f",
   "metadata": {},
   "outputs": [],
   "source": [
    "c = 200.01"
   ]
  },
  {
   "cell_type": "code",
   "execution_count": 5,
   "id": "f10a638b-dc8b-4ba8-84be-ad6423927720",
   "metadata": {},
   "outputs": [],
   "source": [
    "d = ( 100, \"Python\", 200.01, False, 2+9j )"
   ]
  },
  {
   "cell_type": "code",
   "execution_count": null,
   "id": "f04e6e1f-a79c-4c83-a65b-fb243643b09d",
   "metadata": {},
   "outputs": [],
   "source": []
  },
  {
   "cell_type": "code",
   "execution_count": null,
   "id": "28653eb2-52cc-43f0-a359-af8c7ff2e25d",
   "metadata": {},
   "outputs": [],
   "source": []
  },
  {
   "cell_type": "code",
   "execution_count": 6,
   "id": "3bc98f35-bfc9-4719-97f3-068f88718782",
   "metadata": {},
   "outputs": [],
   "source": [
    "# Q2. Given are some following variables containing data:\n",
    "\n",
    "\n",
    "#(ii)var2 = ‘[ DS , ML , Python]’\n",
    "\n",
    "#(iii)var3 = [ ‘DS’ , ’ML’ , ‘Python’ ]\n",
    "\n",
    "#(iv)var4 = 1."
   ]
  },
  {
   "cell_type": "markdown",
   "id": "ad95c0ce-12c2-43ea-8024-472c628d45ca",
   "metadata": {},
   "source": [
    "Since, var1 & var2 contains quotation they are of String data type. var3 is a list. var4 is a float number since it is containing a 'dot' after 1"
   ]
  },
  {
   "cell_type": "code",
   "execution_count": 7,
   "id": "a7ee44c5-8d6e-48ab-9cb2-26294a122aa6",
   "metadata": {},
   "outputs": [],
   "source": [
    "var1 = ''"
   ]
  },
  {
   "cell_type": "code",
   "execution_count": 8,
   "id": "a12bd8e4-d5c8-4331-adea-54ef5a892c61",
   "metadata": {},
   "outputs": [
    {
     "data": {
      "text/plain": [
       "str"
      ]
     },
     "execution_count": 8,
     "metadata": {},
     "output_type": "execute_result"
    }
   ],
   "source": [
    "type(var1)"
   ]
  },
  {
   "cell_type": "code",
   "execution_count": 9,
   "id": "19c6d7e7-9b4e-44ec-9c34-10d52dd32f22",
   "metadata": {},
   "outputs": [],
   "source": [
    "var2 = '[ DS , ML , Python]'\n"
   ]
  },
  {
   "cell_type": "code",
   "execution_count": 10,
   "id": "3a12962b-69b2-47d4-80c9-ed9d53a308ac",
   "metadata": {},
   "outputs": [
    {
     "data": {
      "text/plain": [
       "str"
      ]
     },
     "execution_count": 10,
     "metadata": {},
     "output_type": "execute_result"
    }
   ],
   "source": [
    "type(var2)"
   ]
  },
  {
   "cell_type": "code",
   "execution_count": 11,
   "id": "aeb223c2-cb63-483e-8523-dff5d393d770",
   "metadata": {},
   "outputs": [],
   "source": [
    "var3 = [ 'DS' , 'ML' , 'Python' ]"
   ]
  },
  {
   "cell_type": "code",
   "execution_count": 12,
   "id": "ccd226ef-b36c-4136-bb4e-778e981495b2",
   "metadata": {},
   "outputs": [
    {
     "data": {
      "text/plain": [
       "list"
      ]
     },
     "execution_count": 12,
     "metadata": {},
     "output_type": "execute_result"
    }
   ],
   "source": [
    "type(var3)"
   ]
  },
  {
   "cell_type": "code",
   "execution_count": 13,
   "id": "ccd4f12f-81b5-4dde-b52b-8d92ec242ce2",
   "metadata": {},
   "outputs": [],
   "source": [
    "var4 = 1."
   ]
  },
  {
   "cell_type": "code",
   "execution_count": 14,
   "id": "12a73762-2f57-4c9e-8d1a-726cdc9b1b15",
   "metadata": {},
   "outputs": [
    {
     "data": {
      "text/plain": [
       "float"
      ]
     },
     "execution_count": 14,
     "metadata": {},
     "output_type": "execute_result"
    }
   ],
   "source": [
    "type(var4)"
   ]
  },
  {
   "cell_type": "code",
   "execution_count": null,
   "id": "d05cce4e-9e2f-4765-a475-76827b437bcd",
   "metadata": {},
   "outputs": [],
   "source": []
  },
  {
   "cell_type": "code",
   "execution_count": null,
   "id": "129e9c23-1d24-4ccb-a5b3-c8a8f75d6d20",
   "metadata": {},
   "outputs": [],
   "source": []
  },
  {
   "cell_type": "code",
   "execution_count": 15,
   "id": "e98b0230-58b9-4234-a31b-9e26dc26559a",
   "metadata": {},
   "outputs": [],
   "source": [
    "#Q3. Explain the use of the following operators using an example:\n",
    "\n",
    "#(i)/\n",
    "\n",
    "#(ii)% \n",
    "\n",
    "#(iii)//\n",
    "\n",
    "#(iv)**"
   ]
  },
  {
   "cell_type": "markdown",
   "id": "2c3a1f25-fcfb-4653-921d-649cffc6ce93",
   "metadata": {},
   "source": [
    "Ans: / is used as a division operator. e.g,"
   ]
  },
  {
   "cell_type": "code",
   "execution_count": 16,
   "id": "5a982831-e7ab-4096-acf2-71d717535c06",
   "metadata": {},
   "outputs": [
    {
     "data": {
      "text/plain": [
       "4"
      ]
     },
     "execution_count": 16,
     "metadata": {},
     "output_type": "execute_result"
    }
   ],
   "source": [
    "int(2/0.5)"
   ]
  },
  {
   "cell_type": "markdown",
   "id": "b45afce1-8e63-4ad9-bd4b-01e66942e915",
   "metadata": {},
   "source": [
    "Ans: The '%' operator is used to find the remainder of a divison. It is Called Modulus operator. e.g,"
   ]
  },
  {
   "cell_type": "code",
   "execution_count": 17,
   "id": "17d8002f-0af2-41aa-9fea-16ea57922176",
   "metadata": {},
   "outputs": [],
   "source": [
    "a = 25\n",
    "b = 5"
   ]
  },
  {
   "cell_type": "code",
   "execution_count": 18,
   "id": "a8dafcf9-3653-442a-a40a-2ddc63154335",
   "metadata": {},
   "outputs": [
    {
     "data": {
      "text/plain": [
       "0"
      ]
     },
     "execution_count": 18,
     "metadata": {},
     "output_type": "execute_result"
    }
   ],
   "source": [
    "a%b"
   ]
  },
  {
   "cell_type": "markdown",
   "id": "b871f80d-6f3e-4267-af2c-f1e0a943eed8",
   "metadata": {},
   "source": [
    "Ans: The '//' operator is used to find the Quotient of a divison."
   ]
  },
  {
   "cell_type": "code",
   "execution_count": 19,
   "id": "178b22b1-2369-482d-9a23-164f02720f9c",
   "metadata": {},
   "outputs": [
    {
     "data": {
      "text/plain": [
       "5"
      ]
     },
     "execution_count": 19,
     "metadata": {},
     "output_type": "execute_result"
    }
   ],
   "source": [
    "a//b"
   ]
  },
  {
   "cell_type": "markdown",
   "id": "01c6438f-7d3e-46a5-a578-4eec426da567",
   "metadata": {},
   "source": [
    "Ans: The '**' operator is used as power operator."
   ]
  },
  {
   "cell_type": "code",
   "execution_count": 20,
   "id": "8e92ee9c-3c09-4c80-b244-db2ac4125153",
   "metadata": {},
   "outputs": [
    {
     "data": {
      "text/plain": [
       "9765625"
      ]
     },
     "execution_count": 20,
     "metadata": {},
     "output_type": "execute_result"
    }
   ],
   "source": [
    "a**b"
   ]
  },
  {
   "cell_type": "code",
   "execution_count": null,
   "id": "a94d689c-565a-43c1-900d-db3f3320afb9",
   "metadata": {},
   "outputs": [],
   "source": []
  },
  {
   "cell_type": "code",
   "execution_count": null,
   "id": "298e6cab-9f09-4af3-9ddc-4467f0bc28b7",
   "metadata": {},
   "outputs": [],
   "source": []
  },
  {
   "cell_type": "code",
   "execution_count": 21,
   "id": "44478fd3-056c-4236-9428-14a43f52e531",
   "metadata": {},
   "outputs": [],
   "source": [
    "#Q4. Create a list of length 10 of your choice containing multiple types of data. Using for loop print the element and its data type."
   ]
  },
  {
   "cell_type": "code",
   "execution_count": 22,
   "id": "fc3243d9-1b32-404e-8ac4-a470bb883a48",
   "metadata": {},
   "outputs": [],
   "source": [
    "var_list = [ \"Python\", \"ML\", \"NLP\", \"Statistics\", 200, 100, 0.50, False, True, 2+3j ]"
   ]
  },
  {
   "cell_type": "code",
   "execution_count": 23,
   "id": "f7de4f8c-9617-4035-8d9d-fb1dd42945f1",
   "metadata": {},
   "outputs": [
    {
     "data": {
      "text/plain": [
       "10"
      ]
     },
     "execution_count": 23,
     "metadata": {},
     "output_type": "execute_result"
    }
   ],
   "source": [
    "len(var_list)"
   ]
  },
  {
   "cell_type": "code",
   "execution_count": 24,
   "id": "9263a366-431b-4245-98bf-c3b3281e2f9c",
   "metadata": {},
   "outputs": [
    {
     "name": "stdout",
     "output_type": "stream",
     "text": [
      "This element in the list is: Python & data type of this is: <class 'str'>\n",
      "This element in the list is: ML & data type of this is: <class 'str'>\n",
      "This element in the list is: NLP & data type of this is: <class 'str'>\n",
      "This element in the list is: Statistics & data type of this is: <class 'str'>\n",
      "This element in the list is: 200 & data type of this is: <class 'int'>\n",
      "This element in the list is: 100 & data type of this is: <class 'int'>\n",
      "This element in the list is: 0.5 & data type of this is: <class 'float'>\n",
      "This element in the list is: False & data type of this is: <class 'bool'>\n",
      "This element in the list is: True & data type of this is: <class 'bool'>\n",
      "This element in the list is: (2+3j) & data type of this is: <class 'complex'>\n"
     ]
    }
   ],
   "source": [
    "for n in var_list :\n",
    "    print(\"This element in the list is:\", n, \"& data type of this is:\", type(n))"
   ]
  },
  {
   "cell_type": "code",
   "execution_count": null,
   "id": "58357fed-f1bd-49dd-83ab-9bebf52a92a5",
   "metadata": {},
   "outputs": [],
   "source": []
  },
  {
   "cell_type": "code",
   "execution_count": null,
   "id": "5c76ffdb-4958-47f2-ae96-8878efa656b1",
   "metadata": {},
   "outputs": [],
   "source": []
  },
  {
   "cell_type": "code",
   "execution_count": 25,
   "id": "df7ed6c3-5ae2-4897-b051-3207d9e3879a",
   "metadata": {},
   "outputs": [],
   "source": [
    "#Q5. Using a while loop, verify if the number A is purely divisible by number B and if so then how many times it can be divisible."
   ]
  },
  {
   "cell_type": "code",
   "execution_count": 30,
   "id": "ece58ad2-d1d9-4699-8c75-7c04f24adb09",
   "metadata": {},
   "outputs": [
    {
     "name": "stdout",
     "output_type": "stream",
     "text": [
      "24 is divisible by: 3\n",
      "24 is divisible by: 4\n",
      "24 is divisible by: 6\n",
      "24 is divisible by: 8\n"
     ]
    }
   ],
   "source": [
    "numA = 24\n",
    "numB = 3\n",
    "while ((numA % numB) == 0) :\n",
    "    print (\"24 is divisible by:\", numB)\n",
    "    numB += 1\n",
    "    if ((numA % numB ) != 0) :\n",
    "        numB += 1\n",
    "\n",
    "    #elif (24 // numB) == 1 :\n",
    "        #print (\"Finished\")   "
   ]
  },
  {
   "cell_type": "markdown",
   "id": "266ba2d1-5c83-4ab0-85b1-b288b377091d",
   "metadata": {},
   "source": [
    "I'm unable to do this problem. Please Help!!!"
   ]
  },
  {
   "cell_type": "code",
   "execution_count": null,
   "id": "983d2833-d5f2-418b-9aa1-16dddfae4c75",
   "metadata": {},
   "outputs": [],
   "source": []
  },
  {
   "cell_type": "code",
   "execution_count": null,
   "id": "4df5226e-b588-4f99-a0d5-3b5c372f6c0d",
   "metadata": {},
   "outputs": [],
   "source": []
  },
  {
   "cell_type": "code",
   "execution_count": 28,
   "id": "9b24c09e-44a5-4b96-a2df-9bca59446815",
   "metadata": {},
   "outputs": [],
   "source": [
    "#Q6. Create a list containing 25 int type data. Using for loop and if-else condition print if the element is divisible by 3 or not."
   ]
  },
  {
   "cell_type": "code",
   "execution_count": 34,
   "id": "8793226b-0933-471f-b4e3-9c5a24824920",
   "metadata": {},
   "outputs": [],
   "source": [
    "List = range(25)"
   ]
  },
  {
   "cell_type": "code",
   "execution_count": 35,
   "id": "f251b76c-536b-4685-ab0d-4a2b3ff2207d",
   "metadata": {},
   "outputs": [
    {
     "name": "stdout",
     "output_type": "stream",
     "text": [
      "range(0, 25)\n"
     ]
    }
   ],
   "source": [
    "print (List)"
   ]
  },
  {
   "cell_type": "code",
   "execution_count": 36,
   "id": "91e8e03e-0c77-41a7-95c4-9f138ad0a1a6",
   "metadata": {},
   "outputs": [
    {
     "data": {
      "text/plain": [
       "[0,\n",
       " 1,\n",
       " 2,\n",
       " 3,\n",
       " 4,\n",
       " 5,\n",
       " 6,\n",
       " 7,\n",
       " 8,\n",
       " 9,\n",
       " 10,\n",
       " 11,\n",
       " 12,\n",
       " 13,\n",
       " 14,\n",
       " 15,\n",
       " 16,\n",
       " 17,\n",
       " 18,\n",
       " 19,\n",
       " 20,\n",
       " 21,\n",
       " 22,\n",
       " 23,\n",
       " 24]"
      ]
     },
     "execution_count": 36,
     "metadata": {},
     "output_type": "execute_result"
    }
   ],
   "source": [
    "# I'm not able to check the list of List variable. It is giving a SyntaxError.\n",
    "list (List)"
   ]
  },
  {
   "cell_type": "code",
   "execution_count": 33,
   "id": "e4697d6e-6654-4453-9beb-40c45523fb01",
   "metadata": {},
   "outputs": [
    {
     "name": "stdout",
     "output_type": "stream",
     "text": [
      "This element is divisible by 3\n",
      "This element is divisible by 3\n",
      "This element is divisible by 3\n",
      "This element is divisible by 3\n",
      "This element is divisible by 3\n"
     ]
    }
   ],
   "source": [
    "for n in List :\n",
    "    if ((n%3) == 0):\n",
    "        print (\"This element is divisible by 3\")\n",
    "    else :\n",
    "        print (\"This element is NOT divisible by 3\")"
   ]
  },
  {
   "cell_type": "code",
   "execution_count": null,
   "id": "a2dd4628-817b-405a-a97d-798f09b7baed",
   "metadata": {},
   "outputs": [],
   "source": []
  },
  {
   "cell_type": "code",
   "execution_count": null,
   "id": "fb6141d6-2d69-4b46-921a-ee14c26046d8",
   "metadata": {},
   "outputs": [],
   "source": []
  },
  {
   "cell_type": "code",
   "execution_count": 52,
   "id": "89215cce-ebc8-452a-b72b-cc5405a1f605",
   "metadata": {},
   "outputs": [],
   "source": [
    "#Q7. What do you understand about mutable and immutable data types? Give examples for both showing this property."
   ]
  },
  {
   "cell_type": "markdown",
   "id": "82fe72b2-0239-4e45-aa14-2cb950e44a48",
   "metadata": {},
   "source": [
    "Mutable data types (e.g. list ) allows reassignment of a particular index, while Immutable data type such as 'String' does not allow reassignment."
   ]
  },
  {
   "cell_type": "code",
   "execution_count": 20,
   "id": "ac51c6d8-8dc1-4735-b531-7f68b8b284b4",
   "metadata": {},
   "outputs": [],
   "source": [
    "VarL = [1,2,3,4,5]"
   ]
  },
  {
   "cell_type": "code",
   "execution_count": 21,
   "id": "0eba79b8-0ddd-4d2c-b37a-8de2d538f535",
   "metadata": {},
   "outputs": [],
   "source": [
    "VarL[0] = 3\n",
    "VarL[1] = 3\n",
    "VarL[3] = 3\n",
    "VarL[4] = 3"
   ]
  },
  {
   "cell_type": "code",
   "execution_count": 22,
   "id": "d802a922-8b4e-4c79-ab06-4672ac514206",
   "metadata": {},
   "outputs": [
    {
     "name": "stdout",
     "output_type": "stream",
     "text": [
      "[3, 3, 3, 3, 3]\n"
     ]
    }
   ],
   "source": [
    "#Since list is a mutable data type, it allows reassignment & below we can see that.\n",
    "print (VarL)"
   ]
  },
  {
   "cell_type": "code",
   "execution_count": 23,
   "id": "78a92d31-6ffa-4731-b5e9-b231854aae7e",
   "metadata": {},
   "outputs": [],
   "source": [
    "VarS = \"string\""
   ]
  },
  {
   "cell_type": "code",
   "execution_count": 27,
   "id": "64f8f0c2-501a-4e5b-9787-e0dc105cd36c",
   "metadata": {},
   "outputs": [
    {
     "ename": "TypeError",
     "evalue": "'str' object does not support item assignment",
     "output_type": "error",
     "traceback": [
      "\u001b[0;31m---------------------------------------------------------------------------\u001b[0m",
      "\u001b[0;31mTypeError\u001b[0m                                 Traceback (most recent call last)",
      "Cell \u001b[0;32mIn[27], line 1\u001b[0m\n\u001b[0;32m----> 1\u001b[0m \u001b[43mVarS\u001b[49m\u001b[43m[\u001b[49m\u001b[38;5;241;43m2\u001b[39;49m\u001b[43m]\u001b[49m \u001b[38;5;241m=\u001b[39m \u001b[38;5;241m0\u001b[39m\n",
      "\u001b[0;31mTypeError\u001b[0m: 'str' object does not support item assignment"
     ]
    }
   ],
   "source": [
    "VarS[2] = 0"
   ]
  },
  {
   "cell_type": "markdown",
   "id": "b7a3eaa4-5618-4ca9-98a5-132823f3ac7b",
   "metadata": {},
   "source": [
    "Since String is an immutable data type it is not showing Reassignment/ Mutability."
   ]
  }
 ],
 "metadata": {
  "kernelspec": {
   "display_name": "Python 3 (ipykernel)",
   "language": "python",
   "name": "python3"
  },
  "language_info": {
   "codemirror_mode": {
    "name": "ipython",
    "version": 3
   },
   "file_extension": ".py",
   "mimetype": "text/x-python",
   "name": "python",
   "nbconvert_exporter": "python",
   "pygments_lexer": "ipython3",
   "version": "3.10.8"
  }
 },
 "nbformat": 4,
 "nbformat_minor": 5
}
